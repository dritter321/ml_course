{
  "nbformat": 4,
  "nbformat_minor": 0,
  "metadata": {
    "colab": {
      "provenance": [],
      "authorship_tag": "ABX9TyOadhaQPWJ3DrRO/II2fvsu",
      "include_colab_link": true
    },
    "kernelspec": {
      "name": "python3",
      "display_name": "Python 3"
    },
    "language_info": {
      "name": "python"
    }
  },
  "cells": [
    {
      "cell_type": "markdown",
      "metadata": {
        "id": "view-in-github",
        "colab_type": "text"
      },
      "source": [
        "<a href=\"https://colab.research.google.com/github/dritter321/ml_course/blob/main/w3prac.ipynb\" target=\"_parent\"><img src=\"https://colab.research.google.com/assets/colab-badge.svg\" alt=\"Open In Colab\"/></a>"
      ]
    },
    {
      "cell_type": "code",
      "execution_count": 17,
      "metadata": {
        "colab": {
          "base_uri": "https://localhost:8080/"
        },
        "id": "uiwH_KUcHeiM",
        "outputId": "d1bd1e22-1134-4247-d26f-fce3e8e2f47d"
      },
      "outputs": [
        {
          "output_type": "stream",
          "name": "stdout",
          "text": [
            "The mean average is: 89.76923076923077\n",
            "The median average is: 87.0\n",
            "The mode average is: ModeResult(mode=86, count=3)\n",
            "86\n",
            "<class 'scipy.stats._stats_py.ModeResult'>\n"
          ]
        }
      ],
      "source": [
        "import numpy as np\n",
        "from scipy import stats\n",
        "\n",
        "speed = [99,86,87,88,111,86,103,87,94,78,77,85,86]\n",
        "\n",
        "mean = np.mean(speed)\n",
        "median = numpy.median(speed)\n",
        "mode = stats.mode(speed)\n",
        "\n",
        "print(\"The mean average is: \" + str(mean))\n",
        "print(\"The median average is: \" + str(median))\n",
        "print(\"The mode average is: \" +str(mode))\n",
        "\n",
        "print(mode.mode)\n",
        "print(type(mode))"
      ]
    }
  ]
}